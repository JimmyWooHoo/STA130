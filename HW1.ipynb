{
 "cells": [
  {
   "cell_type": "markdown",
   "id": "ae6cc6ef",
   "metadata": {},
   "source": [
    "I am testing a python claculation"
   ]
  },
  {
   "cell_type": "code",
   "execution_count": 1,
   "id": "2cb19ee9",
   "metadata": {},
   "outputs": [
    {
     "data": {
      "text/plain": [
       "2"
      ]
     },
     "execution_count": 1,
     "metadata": {},
     "output_type": "execute_result"
    }
   ],
   "source": [
    "1+1"
   ]
  },
  {
   "cell_type": "code",
   "execution_count": 2,
   "id": "d12f096b",
   "metadata": {},
   "outputs": [
    {
     "data": {
      "text/plain": [
       "16.666666666666668"
      ]
     },
     "execution_count": 2,
     "metadata": {},
     "output_type": "execute_result"
    }
   ],
   "source": [
    "100/6"
   ]
  },
  {
   "cell_type": "code",
   "execution_count": 3,
   "id": "cab5c1fd",
   "metadata": {},
   "outputs": [
    {
     "data": {
      "text/plain": [
       "8.555555555555555"
      ]
     },
     "execution_count": 3,
     "metadata": {},
     "output_type": "execute_result"
    }
   ],
   "source": [
    "77/9"
   ]
  },
  {
   "cell_type": "code",
   "execution_count": 5,
   "id": "cc6b8a7d",
   "metadata": {},
   "outputs": [
    {
     "data": {
      "text/plain": [
       "9.42"
      ]
     },
     "execution_count": 5,
     "metadata": {},
     "output_type": "execute_result"
    }
   ],
   "source": [
    "pi=3.14\n",
    "pi*3"
   ]
  },
  {
   "cell_type": "code",
   "execution_count": null,
   "id": "44dea086",
   "metadata": {},
   "outputs": [],
   "source": []
  }
 ],
 "metadata": {
  "kernelspec": {
   "display_name": "Python 3 (ipykernel)",
   "language": "python",
   "name": "python3"
  },
  "language_info": {
   "codemirror_mode": {
    "name": "ipython",
    "version": 3
   },
   "file_extension": ".py",
   "mimetype": "text/x-python",
   "name": "python",
   "nbconvert_exporter": "python",
   "pygments_lexer": "ipython3",
   "version": "3.11.6"
  }
 },
 "nbformat": 4,
 "nbformat_minor": 5
}
