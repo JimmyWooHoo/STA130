{
 "cells": [
  {
   "attachments": {},
   "cell_type": "markdown",
   "id": "9a1aa576",
   "metadata": {},
   "source": [
    "## Analysis 1\n",
    "\n",
    "### Research question:\n",
    "- Is a high frequency of making new friends associated with a high level of self-esteem?\n",
    "\n",
    "### Variables:\n",
    "- CONNECTION_activities_new_friend_p3m: \"In the PAST THREE MONTH, how often have you... - made a new friend?\"\n",
    "\n",
    "This variable is selected because it captures the frequency of forming new social connections. We can assign a numerical scale to frequency (e.g., 1 for \"Never,\" 2 for \"Rarely,\" 3 for \"Monthly,\" 4 for \"Weekly,\" and 5 for \"Daily\") so that bigger number represents higher frequency of making new friends. We can use a scatter plot of self-esteem against friend-making frequency with a regression line. This will show if there is a positive trend (self-esteem increasing with frequency).\n",
    "- PSYCH_self_esteem_unknown_scale_high: \"Rate how true of you the following statements are: - I have high self-esteem.\"\n",
    "\n",
    "This variable is selected because it represents the level of personal value and self-worth. We can use a scatter plot of self-esteem against friend-making frequency with a regression line. This will show if there is a positive trend (self-esteem increasing with frequency).   \n",
    "\n",
    "### Analysis:\n",
    "- By performing a Simple Linear Regression, we fit a linear regression model where self-esteem is the dependent variable and friend-making frequency is the independent variable.\n",
    "Self-Esteem = beta0 + beta1 * Friend-Making Frequency + epsilon\n",
    "Where\n",
    "beta0 is the intercept, representing the expected self-esteem level when friend-making frequency is at its lowest and beta1 is the slope, showing how much self-esteem changes with each one-unit increase in friend-making frequency.\n",
    "\n",
    "### Hypothesis/results and discussion:\n",
    "- The slope (beta1) will be positive, meaning that as the frequency of making new friends increases, self-esteem also increases. It would support the idea that higher social engagement is associated with better self-esteem, which relates back to the research core that \"the potential benefits of connection and community engagement to personal health and well-being\". "
   ]
  },
  {
   "cell_type": "markdown",
   "id": "db778eb1",
   "metadata": {},
   "source": [
    "## Analysis 2\n",
    "\n",
    "### Research question:\n",
    "- Is there a difference in outlook on life between individuals who frequently volunteer in the community and those who volunteer less often?\n",
    "\n",
    "### Variables:\n",
    "- CONNECTION_activities_community_p3m: \"In the PAST THREE MONTH, how often have you... - volunteered in the community?\"\n",
    "\n",
    "This variable is selected because it captures the frequency of valunteer activities which is a form of community connection and engagement. We can use a bar chart to represent this frequency, treating it as a categorical data. This provides a quick overview of how many people fall into each volunteering frequency category, making it easy to identify the most and least common levels of volunteering.\n",
    "\n",
    "- PSYCH_self_esteem_unknown_scale_positive_outlook: \"Rate how true of you the following statements are: - I have a positive outlook on life.\"\n",
    "\n",
    "This variable is selected because it shows people's level of positive outlook on life, which is closely related to personal health and well-being. Here, we can use a box plot that shows the distribution of outlook scores for each group, allowing us to observe the range, the median, and any outliers.\n",
    "\n",
    "### Analysis:\n",
    "- We can perform a Hypothesis Test to compare the average positive outlook scores between high- and low-frequency volunteers.\n",
    "- Null Hypothesis (H0): There is no difference in the mean positive outlook score between high- and low-frequency volunteers.\n",
    "- Alternative Hypothesis (H1): The mean positive outlook score is higher or lower among high-frequency volunteers than low-frequency volunteers.\n",
    "### Hypothesis/results and discussion:\n",
    "- Frequent volunteers will report a different and higher positive outlook on life than those who volunteer less often. This supports the idea that community engagement through volunteering leads to a more positive outlook, which relates back to the research core that \"the potential benefits of connection and community engagement to personal health and well-being\". "
   ]
  },
  {
   "cell_type": "markdown",
   "id": "f3a903a7",
   "metadata": {},
   "source": [
    "## Analysis 3\n",
    "\n",
    "### Research question:\n",
    "- What is the average life satisfaction level (on a scale from 1 to 10) among all Canadian individuals?\n",
    "\n",
    "### Variables:\n",
    "- WELLNESS_life_satisfaction: \"On a scale of 1 to 10, How do you feel about your life as a whole right now?\"\n",
    "\n",
    "This variable is selected because it provides a quantitative measure (on a 1–10 scale) of people's well-being, which is essential in understanding population health and quality of life. A histogram is ideal to visualize the distribution of life satisfaction scores. It tells the shape of distribution of scores and the peaks, modality, ect.\n",
    "\n",
    "### Analysis:\n",
    "- We can use bootstrapping to obtain a 95% confidence interval to estimate the population mean for the life satisfaction score in the Canadian population. \n",
    "- Randomly resample (with replacement) from the existing dataset to create a large number of \"bootstrap samples (1,000 or more) of the same sample size.\n",
    "- For each bootstrap sample, calculate the sample mean of life satisfaction scores.\n",
    "- Use the collection of sample means from the bootstrap samples to construct a distribution of the life satisfaction mean.\n",
    "- Find the 2.5th and 97.5th percentiles of the bootstrap distribution of means to obtain the 95% confidence interval.\n",
    "\n",
    "### Hypothesis/results and discussion:\n",
    "- The hypothesis is the interval should be roughly (5, 7). The calculated mean of the data we have is around 6.2 by the way. The interval reflects a moderate to high level of life satisfaction in the population. And this relates back to the research topic about \"personal health and well-being\".\n"
   ]
  },
  {
   "attachments": {},
   "cell_type": "markdown",
   "id": "b83cedb7",
   "metadata": {},
   "source": [
    "### Proposed course project group team\n",
    "\n",
    "- Ching-Chun (Cherrie) Wei\n",
    "- Shimeng (Simone) Wang\n",
    "- Songxuan (Jimmy) Wu"
   ]
  }
 ],
 "metadata": {
  "kernelspec": {
   "display_name": "Python 3 (ipykernel)",
   "language": "python",
   "name": "python3"
  },
  "language_info": {
   "codemirror_mode": {
    "name": "ipython",
    "version": 3
   },
   "file_extension": ".py",
   "mimetype": "text/x-python",
   "name": "python",
   "nbconvert_exporter": "python",
   "pygments_lexer": "ipython3",
   "version": "3.11.6"
  }
 },
 "nbformat": 4,
 "nbformat_minor": 5
}
