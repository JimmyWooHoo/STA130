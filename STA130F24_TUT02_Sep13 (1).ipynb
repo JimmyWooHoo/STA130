{
 "cells": [
  {
   "cell_type": "markdown",
   "id": "14b74968",
   "metadata": {},
   "source": [
    "## STA130 TUT 02 (Sep13)<br><br> 👨‍💻 👩🏻‍💻 <u>Coding with data types, for loops, and logical control<u>\n",
    "    "
   ]
  },
  {
   "cell_type": "markdown",
   "id": "9047160dfd885818",
   "metadata": {},
   "source": [
    "\n",
    "### ♻️ 📚 Review / Questions [10 minutes]\n",
    "\n",
    "1. Follow up questions and clarifications regarding regarding **notebooks, markdown, ChatBots, or `Python` code** previously introduced in the Sep06 TUT and Sep09 LEC \n",
    "\n",
    "> 1. We're continuing to dive into using **notebooks, markdown**, and `Python` as a tool: building comfort and capability working with **ChatBots** to leverage `Python` code is the objective of the current phase of the course...<br><br>\n",
    ">\n",
    "> 2. *Questions about [HW01](https://github.com/pointOfive/stat130chat130/blob/main/HW/STA130F24_HW01_DueSep12.ipynb) which was due yesterday (Thursday Sep12) should be asked in OH from 4-6PM ET Tuesday, Wednesday, and Thursday (see the [Quercus course homepage](https://q.utoronto.ca/courses/354091) for further details)*<br><br>\n",
    "> \n",
    "> 3. *And same story, and even moreso for questions about [HW02](https://github.com/pointOfive/stat130chat130/blob/main/HW/STA130F24_HW02_DueSep19.ipynb) which was due next Thursday (Sep19) (e.g., regarding the \"pre-lecture\" questions...)*"
   ]
  },
  {
   "cell_type": "markdown",
   "id": "7b6f2d524b9e6c7e",
   "metadata": {},
   "source": [
    "### 🚧 🏗️ Demo (using Jupyter Notebook and ChatBots) [50 minutes]\n",
    "\n",
    "\n",
    "#### 1. **[35 of the 50 minutes]** Demonstrate (using a ChatBot to show and explain?) some traditional `python` coding structures\n",
    "\n",
    "1. `tuple()`, `list()`, vs `dict()  # immutable and mutable \"lists\" vs key-value pairs`<br><br>\n",
    "    \n",
    "2. some `NumPy` functions:<br><br>\n",
    "    \n",
    "    1. `import numpy as np`\n",
    "    2. `np.array([1,2,3]) # a faster \"list\"`\n",
    "    3. `np.random.choice([1,2,3])`<br><br>\n",
    "        \n",
    "3. `for i in range(n):`, `for x in a_list:`, `for i,x in enumerate(a_list):`, and `print()`<br><br>\n",
    "    \n",
    "    1. `variable` as the last line of a \"code cell\" in a notebook \"prints\" the value\n",
    "    2. but `print()` is needed inside `for` loop if you want to output something<br><br>\n",
    "        \n",
    "4. `if`/`else` conditional statements<br><br> \n",
    "\n",
    "    1. perhaps with `x in b_list`<br>or `i % 2 == 0` to treat evens/odds differently  (sort of like the infamous \"FizzBuzz\" problem that some people [can't complete](https://www.quora.com/On-average-what-is-the-proportion-of-applicants-that-cannot-pass-a-simple-FizzBuzz-test-based-on-your-personal-experience-or-on-facts) as part of a coding interview challenge)\n",
    "    2. note the \"similarity\" to the `try-except` block structure when that's encountered in the code below since it's used there (despite being a \"more advanced\" \n",
    "        \n",
    "#### 2. **[5 of the 50 minutes]** Reintroduce the [Monty Hall problem](https://github.com/pointOfive/stat130chat130/blob/main/CHATLOG/wk2/GPT/SLS/00001_gpt3p5_MonteHall_ProblemExplanation_v1.md) and see which of the coding structures above you recognize (or do not see) in the Monty Hall simulation code below\n",
    "\n",
    "#### 3. **[10 of the 50 minutes]** Use any remaining time to start a demonstration of using a ChatBot to (a) understand what the code below is doing and (b) suggest an improved streamlined version of the `for` loop simulation code that might be easier to explain and understand\n",
    "    \n",
    "> ChatGPT version 3.5 [was very effective](https://github.com/pointOfive/stat130chat130/blob/main/CHATLOG/wk2/GPT/SLS/00003_gpt3p5_MonteHall_CodeDiscussion_v1.md) for (b), while Copilot was shockingly bad on a [first try](../CHATLOG/wk2/COP/SLS/00001_creative_MonteHall_CodeDiscussion_v1.md) but was able to do better [with some helpful guidance](https://github.com/pointOfive/stat130chat130/blob/main/CHATLOG/wk2/COP/SLS/00002_concise_MonteHall_CodeDiscussion_v2.md)."
   ]
  },
  {
   "cell_type": "markdown",
   "id": "f3897860",
   "metadata": {},
   "source": [
    "The following is the answer for question 1.1:"
   ]
  },
  {
   "cell_type": "code",
   "execution_count": 1,
   "id": "a7be9646",
   "metadata": {},
   "outputs": [
    {
     "name": "stdout",
     "output_type": "stream",
     "text": [
      "Tuple: (1, 2, 3)\n",
      "First element of tuple: 1\n",
      "\n",
      "Original List: [1, 2, 3]\n",
      "First element of list: 1\n",
      "Modified List: [10, 2, 3]\n",
      "List after appending: [10, 2, 3, 4]\n",
      "\n",
      "Dictionary: {'name': 'Alice', 'age': 25, 'city': 'New York'}\n",
      "Name in dictionary: Alice\n",
      "Modified dictionary: {'name': 'Alice', 'age': 26, 'city': 'New York'}\n",
      "Dictionary after adding new key-value pair: {'name': 'Alice', 'age': 26, 'city': 'New York', 'country': 'USA'}\n"
     ]
    }
   ],
   "source": [
    "# Tuple (Immutable)\n",
    "my_tuple = (1, 2, 3)\n",
    "print(\"Tuple:\", my_tuple)\n",
    "print(\"First element of tuple:\", my_tuple[0])\n",
    "\n",
    "# List (Mutable)\n",
    "my_list = [1, 2, 3]\n",
    "print(\"\\nOriginal List:\", my_list)\n",
    "\n",
    "# Accessing elements\n",
    "print(\"First element of list:\", my_list[0])\n",
    "\n",
    "# Modifying elements\n",
    "my_list[0] = 10\n",
    "print(\"Modified List:\", my_list)\n",
    "\n",
    "# Adding a new element\n",
    "my_list.append(4)\n",
    "print(\"List after appending:\", my_list)\n",
    "\n",
    "\n",
    "# Dictionary (Key-Value Pairs, Mutable)\n",
    "my_dict = {'name': 'Alice', 'age': 25, 'city': 'New York'}\n",
    "print(\"\\nDictionary:\", my_dict)\n",
    "\n",
    "# Accessing values\n",
    "print(\"Name in dictionary:\", my_dict['name'])\n",
    "\n",
    "# Modifying values\n",
    "my_dict['age'] = 26\n",
    "print(\"Modified dictionary:\", my_dict)\n",
    "\n",
    "# Adding a new key-value pair\n",
    "my_dict['country'] = 'USA'\n",
    "print(\"Dictionary after adding new key-value pair:\", my_dict)\n"
   ]
  },
  {
   "cell_type": "markdown",
   "id": "83bbb924",
   "metadata": {},
   "source": [
    "The following is the answer for question 1.2:"
   ]
  },
  {
   "cell_type": "code",
   "execution_count": null,
   "id": "c07f5fe9",
   "metadata": {},
   "outputs": [],
   "source": [
    "import numpy as np\n",
    "\n",
    "# 1. np.array()\n",
    "arr = np.array([1, 2, 3])\n",
    "print(\"NumPy array:\", arr)\n",
    "\n",
    "# 2. np.random.choice()\n",
    "random_choice = np.random.choice([1, 2, 3])\n",
    "print(\"Randomly selected element:\", random_choice)\n",
    "\n",
    "# 3. np.arange()\n",
    "arr_range = np.arange(10)\n",
    "print(\"\\nArray with range of values:\", arr_range)\n",
    "\n",
    "# 4. np.zeros() and np.ones()\n",
    "zeros_array = np.zeros((3, 3))\n",
    "print(\"\\n3x3 array of zeros:\\n\", zeros_array)\n",
    "\n",
    "ones_array = np.ones((2, 2))\n",
    "print(\"\\n2x2 array of ones:\\n\", ones_array)\n",
    "\n",
    "# 5. np.reshape()\n",
    "reshaped_array = np.arange(10).reshape(2, 5)\n",
    "print(\"\\nReshaped array (2x5):\\n\", reshaped_array)\n",
    "\n",
    "# 6. np.mean() and np.sum()\n",
    "arr_for_stats = np.array([1, 2, 3, 4, 5])\n",
    "mean_val = np.mean(arr_for_stats)\n",
    "print(\"\\nMean of the array:\", mean_val)\n",
    "sum_val = np.sum(arr_for_stats)\n",
    "print(\"Sum of the array:\", sum_val)\n",
    "\n",
    "# 7. np.random.randn()\n",
    "random_norm = np.random.randn(5)\n",
    "print(\"\\nRandom numbers from normal distribution:\", random_norm)\n",
    "\n",
    "# 8. np.dot()\n",
    "a = np.array([1, 2])\n",
    "b = np.array([3, 4])\n",
    "dot_product = np.dot(a, b)\n",
    "print(\"\\nDot product of a and b:\", dot_product)\n"
   ]
  },
  {
   "cell_type": "markdown",
   "id": "09fe62b3",
   "metadata": {},
   "source": [
    "The following is the answer for question 1.3"
   ]
  },
  {
   "cell_type": "code",
   "execution_count": null,
   "id": "84df44bf",
   "metadata": {},
   "outputs": [],
   "source": [
    "# 1. for i in range(n):\n",
    "n = 5\n",
    "for i in range(n):\n",
    "    print(f\"Iteration {i}\")  # Outputting iteration index\n",
    "\n",
    "# 2. for x in a_list:\n",
    "a_list = [10, 20, 30]\n",
    "for x in a_list:\n",
    "    print(f\"Element: {x}\")  # Outputting each element in a_list\n",
    "\n",
    "# 3. for i, x in enumerate(a_list):\n",
    "char_list = ['a', 'b', 'c']\n",
    "for i, x in enumerate(char_list):\n",
    "    print(f\"Index {i} has element: {x}\")  # Outputting both index and element\n",
    "\n",
    "# 4. Variable as the last line in a cell (Jupyter-specific behavior)\n",
    "# In Jupyter, the last line of a cell will automatically output the value\n",
    "char_list  # In a Jupyter notebook, this will output ['a', 'b', 'c'] without needing print()\n"
   ]
  },
  {
   "cell_type": "markdown",
   "id": "c7494247",
   "metadata": {},
   "source": [
    "The following is the answer for question 1.4:"
   ]
  },
  {
   "cell_type": "code",
   "execution_count": null,
   "id": "57800c77",
   "metadata": {},
   "outputs": [],
   "source": [
    "# 1. Basic if/else\n",
    "x = 10\n",
    "if x > 5:\n",
    "    print(f\"{x} is greater than 5\")\n",
    "else:\n",
    "    print(f\"{x} is not greater than 5\")\n",
    "\n",
    "# 2. if/else with x in b_list\n",
    "b_list = [1, 2, 3, 4, 5]\n",
    "for x in b_list:\n",
    "    if x % 2 == 0:\n",
    "        print(f\"{x} is even\")\n",
    "    else:\n",
    "        print(f\"{x} is odd\")\n",
    "\n",
    "# 3. if/else with i % 2 == 0\n",
    "for i in range(1, 11):\n",
    "    if i % 2 == 0:\n",
    "        print(f\"{i} is even\")\n",
    "    else:\n",
    "        print(f\"{i} is odd\")\n",
    "\n",
    "# 4. FizzBuzz example\n",
    "for i in range(1, 21):\n",
    "    if i % 3 == 0 and i % 5 == 0:\n",
    "        print(\"FizzBuzz\")\n",
    "    elif i % 3 == 0:\n",
    "        print(\"Fizz\")\n",
    "    elif i % 5 == 0:\n",
    "        print(\"Buzz\")\n",
    "    else:\n",
    "        print(i)\n",
    "\n",
    "# 5. try-except block\n",
    "b_list = [1, \"a\", 3, \"b\"]\n",
    "for x in b_list:\n",
    "    try:\n",
    "        if x % 2 == 0:\n",
    "            print(f\"{x} is even\")\n",
    "        else:\n",
    "            print(f\"{x} is odd\")\n",
    "    except TypeError:\n",
    "        print(f\"'{x}' is not a number\")\n"
   ]
  },
  {
   "cell_type": "code",
   "execution_count": 1,
   "id": "d9cfb02869afc350",
   "metadata": {
    "ExecuteTime": {
     "end_time": "2024-05-15T21:54:31.981069Z",
     "start_time": "2024-05-15T21:54:30.771611Z"
    }
   },
   "outputs": [
    {
     "data": {
      "text/plain": [
       "0.66777"
      ]
     },
     "execution_count": 1,
     "metadata": {},
     "output_type": "execute_result"
    }
   ],
   "source": [
    "# Monte Hall Simulation Code -- not the only way to code this, but it's what Prof. Schwartz came up with...\n",
    "\n",
    "import numpy as np\n",
    "all_door_options = (1,2,3)  # tuple\n",
    "my_door_choice = 1  # 1,2,3\n",
    "i_won = 0\n",
    "reps = 100000\n",
    "for i in range(reps):\n",
    "    secret_winning_door = np.random.choice(all_door_options)\n",
    "    all_door_options_list = list(all_door_options)\n",
    "    # take the secret_winning_door, so we don't show it as a \"goat\" losing door\n",
    "    all_door_options_list.remove(secret_winning_door)\n",
    "    try:\n",
    "        # if my_door_choice was secret_winning_door then it's already removed\n",
    "        all_door_options_list.remove(my_door_choice)\n",
    "    except:\n",
    "        pass\n",
    "    # show a \"goat\" losing door and remove it\n",
    "    goat_door_reveal = np.random.choice(all_door_options_list)\n",
    "    all_door_options_list.remove(goat_door_reveal)\n",
    "\n",
    "    # put the secret_winning_door back in if it wasn't our choice\n",
    "    # we previously removed it, so it would be shown as a  \"goat\" losing door\n",
    "    if secret_winning_door != my_door_choice:\n",
    "        all_door_options_list.append(secret_winning_door)\n",
    "    # if secret_winning_door was our choice then all that's left in the list is a \"goat\" losing door\n",
    "    # if secret_winning_door wasn't our choice then it's all that will be left in the list\n",
    "\n",
    "    # swap strategy\n",
    "    my_door_choice = all_door_options_list[0]\n",
    "\n",
    "    if my_door_choice == secret_winning_door:\n",
    "        i_won += 1\n",
    "\n",
    "i_won/reps"
   ]
  },
  {
   "cell_type": "markdown",
   "id": "0b296565",
   "metadata": {},
   "source": [
    "The following is the answer for question  2:"
   ]
  },
  {
   "cell_type": "markdown",
   "id": "cae1663f",
   "metadata": {},
   "source": [
    "In this Monty Hall simulation, I can observe the use of many key Python structures like loops, conditionals, try-except, and collections (tuple and list)."
   ]
  },
  {
   "cell_type": "markdown",
   "id": "4466ae75",
   "metadata": {},
   "source": [
    "The following is the answer for question  3:"
   ]
  },
  {
   "cell_type": "markdown",
   "id": "3af5d3f6",
   "metadata": {},
   "source": [
    "This code simulates the Monty Hall problem 100,000 times to estimate the win rate when the contestant always switches doors.\n",
    "\n",
    "The following is the Streamlined Version of the Code:"
   ]
  },
  {
   "cell_type": "code",
   "execution_count": null,
   "id": "0cc7bb45",
   "metadata": {},
   "outputs": [],
   "source": [
    "import numpy as np\n",
    "\n",
    "# Monty Hall Simulation with a switching strategy\n",
    "reps = 100000  # Number of simulations\n",
    "i_won = 0  # Counter for number of wins\n",
    "\n",
    "for _ in range(reps):\n",
    "    # Step 1: Randomly choose a winning door and the player's initial choice\n",
    "    secret_winning_door = np.random.choice([1, 2, 3])\n",
    "    my_door_choice = np.random.choice([1, 2, 3])\n",
    "    \n",
    "    # Step 2: Monty reveals a goat door that is neither the winning door nor the player's choice\n",
    "    remaining_doors = [door for door in [1, 2, 3] if door != my_door_choice and door != secret_winning_door]\n",
    "    goat_door_reveal = np.random.choice(remaining_doors)\n",
    "\n",
    "    # Step 3: The player switches to the other unopened door\n",
    "    remaining_door = [door for door in [1, 2, 3] if door != my_door_choice and door != goat_door_reveal][0]\n",
    "\n",
    "    # Step 4: Check if the player wins after switching\n",
    "    if remaining_door == secret_winning_door:\n",
    "        i_won += 1\n",
    "\n",
    "# Output the probability of winning by switching\n",
    "i_won / reps\n"
   ]
  },
  {
   "cell_type": "markdown",
   "id": "b1985697e415697b",
   "metadata": {},
   "source": [
    "### 💬 🗣️ Communication [40 minutes]\n",
    "    \n",
    "#### 1. **[5 of the 40 minutes]** Quickly execute the \"rule of 5\" and take 5 minutes to break into 5 new groups of about 5 students and assign the following 5 questions to the 5 groups (and note that this instruction uses fives 5's 😉). Consider allowing students to preferentially select which group they join by calling for volunteers for each prompt, and feel free to use 5 minutes from the next (dicussion) sections doing so if you choose to (since this could be viewed as being a part of the \"discussion\").\n",
    "\n",
    "> *For each of the prompts, groups should consider the pros and cons of two options, the potential impact of a decision to persue one of the options, and how they take into account how uncertainty influences their thinking about the options.<br><br>*\n",
    ">\n",
    "> <details class=\"details-example\"><summary style=\"color:blue\"><u>Further Guidance</u></summary>\n",
    ">     \n",
    "> I asked a ChatBot to create a group activity for you that was related to decision-making under uncertainty using probability, and it produced the following questions. \n",
    "> \n",
    "> *This is a little bit like one of the ideas in the \"Afterward\" of HW01 asking a ChatBot to suggest and explain some other, perhaps less well-known \"unintuitive surprising statistics paradoxes\" (besides the \"World War 2 Plane\" and \"Monte Hall\" problems)*\n",
    ">\n",
    "> </details>\n",
    "\n",
    "1. **Stock Investment Strategy:** Students are investors trying to maximize their returns in the stock market. They must decide between two investment strategies: \"diversified portfolio\" or \"focused portfolio.\" Each strategy has different probabilities of success based on market conditions.<br><br>\n",
    "    \n",
    "    1. Diversified Portfolio: Spread investments across multiple industries.\n",
    "    2. Focused Portfolio: Concentrate investments in a few high-potential stocks.<br><br>\n",
    "        \n",
    "2. **Healthcare Treatment Decision:** Students are healthcare professionals deciding between two treatment options for a patient's condition. Each treatment has different success rates and potential side effects.<br><br>\n",
    "    \n",
    "    1. Treatment A: High success rate but moderate side effects.\n",
    "    2. Treatment B: Lower success rate but minimal side effects.<br><br>\n",
    "        \n",
    "3. **Sports Team Strategy:** Students are coaches of a sports team planning their game strategy. They must decide between two tactics: \"offensive strategy\" or \"defensive strategy.\" Each strategy has different probabilities of winning based on the opponent's strengths and weaknesses.<br><br>\n",
    "    \n",
    "    1. Offensive Strategy: Focus on scoring goals/points aggressively.\n",
    "    2. Defensive Strategy: Prioritize defense to prevent the opponent from scoring.<br><br>\n",
    "        \n",
    "4. **Career Path Decision:** Students are recent graduates deciding between two career paths: \"corporate job\" or \"entrepreneurship.\" Each path has different probabilities of success and factors to consider, such as job security, income potential, and work-life balance.<br><br>\n",
    "    \n",
    "    1. Corporate Job: Stable income but limited growth opportunities.\n",
    "    2. Entrepreneurship: Higher potential for success but greater risk and uncertainty.<br><br>\n",
    "        \n",
    "5. **Environmental Conservation Strategy:** Students are environmental activists advocating for conservation efforts in a wildlife reserve. They must decide between two conservation strategies: \"habitat preservation\" or \"species reintroduction.\" Each strategy has different probabilities of achieving long-term sustainability for the ecosystem.<br><br>\n",
    "    \n",
    "    1. Habitat Preservation: Protect existing habitats from human encroachment.\n",
    "    2. Species Reintroduction: Reintroduce endangered species to restore ecological balance.\n",
    "\n",
    "\n",
    "#### 2. **[15 to 20 of the 40 minutes]** Each group plans and prepares a brief (approximately 3 minute) summary (a) introducing their problem context and (b) outlining their decision and the rationale behind it. The group presentations should address\n",
    "\n",
    "1. the expected outcomes of their decision\n",
    "2. the risks involved\n",
    "3. and why they believe their choice is the best in light of their characterization of the degree uncertainty present in their context \n",
    "\n",
    "#### 3. **[15 to 20 of the 40 minutes]** Each group gives their (approximately 3 minute) planned presentation. If time permits, engaging in some (students or TA) Q&A seeking clarification or challenging group decisions would be ideal.\n",
    "\n",
    "Groups who manage to plan a presentation where multiple group members actively part of the presentation should be awarded \"gold stars\", figuratively, of course, since actualy gold, or stars, of gold star stickers are unfortunately momentarily in short supply"
   ]
  },
  {
   "cell_type": "markdown",
   "id": "176149d7",
   "metadata": {},
   "source": [
    "I want to discuss about Sports Team Strategy, and I would prefer B. Defensive Strategy: Prioritize defense to prevent the opponent from scoring.\n",
    "\n",
    "Pros of offensive strategy would be having intensive competition, scoring a lot of points, having control over game's pace.\n",
    "Cons of this would be more consumption of stamina\n",
    "\n",
    "Pros of defensive strategy would be having better defense which creates a difficult problem for the opponent\n",
    "Cons of this would be not having enough incentive or stamina to score which may lead to a tie.\n",
    "\n",
    "We should also consider uncertainty like the opponent's strength.\n",
    "If the opponent is strong offensively, then we should focus on defensive strategy.\n",
    "If the opponent is string defensively but week at offense, then we can try to focus more on offensive side."
   ]
  },
  {
   "cell_type": "markdown",
   "id": "1e9cb411",
   "metadata": {},
   "source": [
    "here is a summary of my discussion with ChatGPT:\n",
    "\n",
    "Monty Hall Problem Simulation:\n",
    "\n",
    "We discussed a simulation of the Monty Hall problem, where a contestant must decide whether to switch doors after one has been revealed to have a goat.\n",
    "I provided an explanation of the original simulation code and suggested a streamlined version that simplifies the logic and improves readability.\n",
    "Sports Team Strategy:\n",
    "\n",
    "You expressed a preference for a defensive strategy, prioritizing defense to prevent the opponent from scoring.\n",
    "Pros of Defensive Strategy:\n",
    "Control over the game’s pace.\n",
    "Potentially frustrates the opponent, causing mistakes.\n",
    "Conserves stamina for the team.\n",
    "Cons:\n",
    "Fewer scoring opportunities, risking a tie.\n",
    "Constant pressure from the opponent could lead to defensive breakdowns.\n",
    "Opponent Considerations:\n",
    "Against strong offensive teams, a defensive focus is advantageous.\n",
    "Against weak offensive but strong defensive teams, a balanced approach may be necessary.\n",
    "Uncertainty Factors:\n",
    "The need for adaptability in strategy based on the opponent's tactics and the game flow.\n",
    "This conversation highlighted your strategic focus on defense in sports, emphasizing its advantages while recognizing the need for adaptability based on the opponent’s strengths."
   ]
  },
  {
   "cell_type": "markdown",
   "id": "ed6142ec",
   "metadata": {},
   "source": [
    "And here is a link to the transcript of my conversation with ChatGPT:\n",
    "https://chatgpt.com/share/66f6c70e-cd80-8006-8040-6ef12bb78d28"
   ]
  }
 ],
 "metadata": {
  "kernelspec": {
   "display_name": "Python 3 (ipykernel)",
   "language": "python",
   "name": "python3"
  },
  "language_info": {
   "codemirror_mode": {
    "name": "ipython",
    "version": 3
   },
   "file_extension": ".py",
   "mimetype": "text/x-python",
   "name": "python",
   "nbconvert_exporter": "python",
   "pygments_lexer": "ipython3",
   "version": "3.11.6"
  }
 },
 "nbformat": 4,
 "nbformat_minor": 5
}
